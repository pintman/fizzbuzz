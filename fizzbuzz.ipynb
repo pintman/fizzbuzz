{
 "cells": [
  {
   "cell_type": "markdown",
   "metadata": {},
   "source": [
    "# FizzBuzz\n",
    "\n",
    "## Kata 0 - auf Papier\n",
    "``\n",
    "1\n",
    "2\n",
    "fizz\n",
    "4\n",
    "buzz\n",
    "fizz\n",
    "7\n",
    "8\n",
    "fizz\n",
    "buzz\n",
    "11\n",
    "fizz\n",
    "13\n",
    "14\n",
    "fizzbuzz\n",
    "16\n",
    "17\n",
    "fizz\n",
    "19\n",
    "``"
   ]
  },
  {
   "cell_type": "markdown",
   "metadata": {},
   "source": [
    "## Kata 1 - mit einer Methode"
   ]
  },
  {
   "cell_type": "code",
   "execution_count": null,
   "metadata": {
    "collapsed": false
   },
   "outputs": [],
   "source": [
    "def fizzbuzz(n):\n",
    "    for i in range(n):\n",
    "        if i % 3 == 0 and i % 5 == 0:\n",
    "            print(\"fizzbuzz\")\n",
    "        elif i % 3 == 0:\n",
    "            print(\"fizz\")\n",
    "        elif i % 5 == 0:\n",
    "            print(\"buzz\")\n",
    "        else:\n",
    "            print(i)\n",
    "\n",
    "fizzbuzz(20)"
   ]
  },
  {
   "cell_type": "markdown",
   "metadata": {},
   "source": [
    "## Kata 2 - ohne Verwendung einer Schleife (rekursiv)"
   ]
  },
  {
   "cell_type": "code",
   "execution_count": null,
   "metadata": {
    "collapsed": false
   },
   "outputs": [],
   "source": [
    "def fizzbuzz_rekursiv(i):\n",
    "    if i == 0:\n",
    "        return\n",
    "    else:\n",
    "        fizzbuzz_rekursiv(i-1)\n",
    "\n",
    "        if i % 3 == 0 and i % 5 == 0:\n",
    "            print(\"fizzbuzz\")\n",
    "        elif i % 3 == 0:\n",
    "            print(\"fizz\")\n",
    "        elif i % 5 == 0:\n",
    "            print(\"buzz\")\n",
    "        else:\n",
    "            print(i)\n",
    "\n",
    "fizzbuzz_rekursiv(20)"
   ]
  },
  {
   "cell_type": "markdown",
   "metadata": {},
   "source": [
    "## Kata 3 - mit Hilfe von nebenläufigen Threads"
   ]
  },
  {
   "cell_type": "code",
   "execution_count": null,
   "metadata": {
    "collapsed": false
   },
   "outputs": [],
   "source": [
    "import threading\n",
    "\n",
    "def fizzbuzz_thread(i):\n",
    "    if i % 3 == 0 and i % 5 == 0:\n",
    "        print(\"fizzbuzz\")\n",
    "    elif i % 3 == 0:\n",
    "        print(\"fizz\")\n",
    "    elif i % 5 == 0:\n",
    "        print(\"buzz\")\n",
    "    else:\n",
    "        print(i)\n",
    "\n",
    "def fizzbuzz_threading():\n",
    "    for i in range(20):\n",
    "        th = threading.Thread(target=fizzbuzz_thread, args=(i,))\n",
    "        th.start()\n",
    "        while th.isAlive():\n",
    "            pass\n",
    "\n",
    "fizzbuzz_threading()"
   ]
  },
  {
   "cell_type": "markdown",
   "metadata": {},
   "source": [
    "## Kata 4 - mit einer anderen IDE\n",
    "Mögliche Kandiaten wären:\n",
    "\n",
    "- IDLE\n",
    "- PyCharm\n",
    "- Emacs\n",
    "- vim\n",
    "- Atom"
   ]
  },
  {
   "cell_type": "markdown",
   "metadata": {},
   "source": [
    "## Kata 5 - in einer anderen Programmiersprache\n",
    "\n",
    "Mögliche Sprachen wären:\n",
    "\n",
    "- Java\n",
    "- Javascript\n",
    "- C#\n",
    "- C\n",
    "- C++\n",
    "- Bash"
   ]
  },
  {
   "cell_type": "markdown",
   "metadata": {},
   "source": [
    "## Kata 6 - als Client-Server Anwendung"
   ]
  },
  {
   "cell_type": "code",
   "execution_count": null,
   "metadata": {
    "collapsed": false
   },
   "outputs": [],
   "source": [
    "import socketserver\n",
    "import socket\n",
    "\n",
    "class FizzBuzzHandler(socketserver.BaseRequestHandler):\n",
    "    def handle(self):\n",
    "        # received bytes from request and take the first one\n",
    "        i = self.request.recv(1)[0]\n",
    "        if i % 3 == 0 and i % 5 == 0:\n",
    "            print(\"fizzbuzz\")\n",
    "        elif i % 3 == 0:\n",
    "            print(\"fizz\")\n",
    "        elif i % 5 == 0:\n",
    "            print(\"buzz\")\n",
    "        else:\n",
    "            print(i)\n",
    "\n",
    "class FizzBuzzClient:\n",
    "    def __init__(self, ip, port):\n",
    "        self.socket = (ip, port)\n",
    "\n",
    "    def send(self, i):\n",
    "        with socket.socket(socket.AF_INET, socket.SOCK_STREAM) as sock:\n",
    "            sock.connect(self.socket)\n",
    "            #print(\"sending\", i)\n",
    "            sock.sendall(bytes([i]))\n",
    "\n",
    "def fizzbuzz_client_server():\n",
    "    # Starting the server in a separate thread\n",
    "    server_socket = (\"127.0.0.1\", 8081)\n",
    "    server = socketserver.TCPServer(server_socket, FizzBuzzHandler)\n",
    "    th = threading.Thread(target=server.serve_forever)\n",
    "    th.start()\n",
    "    # starting the client\n",
    "    cl = FizzBuzzClient(*server_socket)\n",
    "    for i in range(20):\n",
    "        cl.send(i)\n",
    "\n",
    "fizzbuzz_client_server()"
   ]
  },
  {
   "cell_type": "markdown",
   "metadata": {},
   "source": [
    "## Kata 7 - mit einer grafischen Oberfläche (GUI)"
   ]
  },
  {
   "cell_type": "code",
   "execution_count": null,
   "metadata": {
    "collapsed": false
   },
   "outputs": [],
   "source": [
    "import tkinter\n",
    "\n",
    "class GUI:\n",
    "    def __init__(self):\n",
    "        self.i = 0\n",
    "\n",
    "        root = tkinter.Tk()\n",
    "        btn = tkinter.Button(root, text=\"next\", command=self.button_click)\n",
    "        btn.pack()\n",
    "        self.ent = tkinter.Entry(root)\n",
    "        self.ent.pack()\n",
    "        # entering main event loop\n",
    "        root.mainloop()\n",
    "\n",
    "    def button_click(self):\n",
    "        i = self.i\n",
    "        # clear the entry field\n",
    "        self.ent.delete(0, tkinter.END)\n",
    "\n",
    "        if i % 3 == 0 and i % 5 == 0:\n",
    "            self.ent.insert(0, \"fizzbuzz\")\n",
    "        elif i % 3 == 0:\n",
    "            self.ent.insert(0, \"fizz\")\n",
    "        elif i % 5 == 0:\n",
    "            self.ent.insert(0, \"buzz\")\n",
    "        else:\n",
    "            self.ent.insert(0, i)\n",
    "\n",
    "        self.i += 1\n",
    "\n",
    "GUI()"
   ]
  },
  {
   "cell_type": "markdown",
   "metadata": {},
   "source": [
    "## Kata 8 - Objekt-Orientiert: Klassen und Objekte verwenden"
   ]
  },
  {
   "cell_type": "code",
   "execution_count": null,
   "metadata": {
    "collapsed": false
   },
   "outputs": [],
   "source": [
    "class Fizzer:\n",
    "    def __init__(self, n):\n",
    "        pass\n",
    "    def print(self):\n",
    "        print(\"Fizz\")\n",
    "\n",
    "class Buzzer:\n",
    "    def __init__(self, n):\n",
    "        pass\n",
    "    def print(self):\n",
    "        print(\"Buzz\")\n",
    "\n",
    "class FizzBuzzer:\n",
    "    def __init__(self, n):\n",
    "        pass\n",
    "    def print(self):\n",
    "        print(\"FizzBuzz\")\n",
    "\n",
    "class Number:\n",
    "    def __init__(self, n):\n",
    "        self.n = n\n",
    "    def print(self):\n",
    "        print(self.n)\n",
    "\n",
    "class FizzBuzzNumber:\n",
    "    def __init__(self, i):\n",
    "        if i % 3 == 0 and i % 5 == 0:\n",
    "            self.printer = FizzBuzzer(i)\n",
    "        elif i % 3 == 0:\n",
    "            self.printer = Fizzer(i)\n",
    "        elif i % 5 == 0:\n",
    "            self.printer = Buzzer(i)\n",
    "        else:\n",
    "            self.printer = Number(i)\n",
    "\n",
    "    def print(self):\n",
    "        self.printer.print()\n",
    "\n",
    "def fizzbuzz_objektorientiert():\n",
    "    for i in range(20):\n",
    "        f = FizzBuzzNumber(i)\n",
    "        f.print()\n",
    "\n",
    "fizzbuzz_objektorientiert()\n"
   ]
  },
  {
   "cell_type": "markdown",
   "metadata": {},
   "source": [
    "## Kata 9 - objekt-orientiert mit Vererbung"
   ]
  },
  {
   "cell_type": "code",
   "execution_count": null,
   "metadata": {
    "collapsed": false
   },
   "outputs": [],
   "source": [
    "class Numbering:\n",
    "    def printit(self, i):\n",
    "        print(i)\n",
    "\n",
    "class Buzzer2(Numbering):\n",
    "    def printit(self, i):\n",
    "        if i % 5 == 0:\n",
    "            print(\"buzz\")\n",
    "        else:\n",
    "            super().printit(i)\n",
    "\n",
    "class Fizzer2(Buzzer2):\n",
    "    def printit(self, i):\n",
    "        if i % 3 == 0:\n",
    "            print(\"fizz\")\n",
    "        else:\n",
    "            super().printit(i)\n",
    "\n",
    "class FizzerBuzzer2(Fizzer2):\n",
    "    def printit(self, i):\n",
    "        if i % 3 == 0 and  i % 5 == 0:\n",
    "            print(\"fizzbuzz\")\n",
    "        else:\n",
    "            super().printit(i)\n",
    "\n",
    "def fizzbuzz_objektorientiert2():\n",
    "    for i in range(20):\n",
    "        fb = FizzerBuzzer2()\n",
    "        fb.printit(i)\n",
    "\n",
    "fizzbuzz_objektorientiert2()\n"
   ]
  },
  {
   "cell_type": "markdown",
   "metadata": {},
   "source": [
    "## Kata 10 - funktional"
   ]
  },
  {
   "cell_type": "code",
   "execution_count": null,
   "metadata": {
    "collapsed": false
   },
   "outputs": [],
   "source": [
    "import functools\n",
    "\n",
    "def by(number):\n",
    "    \"\"\"Return a function to prove divisibility by number.\"\"\"\n",
    "    return (lambda i: i % number == 0)\n",
    "\n",
    "def fizzbuzz_func(i):\n",
    "    # create to functions to test for divisibility\n",
    "    by5 = by(5)\n",
    "    by3 = by(3)\n",
    "\n",
    "    if by5(i) and by3(i):\n",
    "        return \"fizzbuzz\"\n",
    "    elif by3(i):\n",
    "        return \"fizz\"\n",
    "    elif by5(i):\n",
    "        return \"buzz\"\n",
    "    else:\n",
    "        return i\n",
    "\n",
    "def fizzbuzz_funktional():\n",
    "    # apply fizzbuzz_func to numbers\n",
    "    res = map(fizzbuzz_func, range(20))\n",
    "\n",
    "    # reduce the result into a string\n",
    "    s = functools.reduce(\n",
    "        lambda acc, i: acc + str(i) + \"\\n\", # updating function\n",
    "        res, # values to be reduced\n",
    "        \"\") # initial value\n",
    "\n",
    "    print(s)\n",
    "\n",
    "fizzbuzz_funktional()"
   ]
  },
  {
   "cell_type": "markdown",
   "metadata": {},
   "source": [
    "## Kata 11 - als Webanwendung (mit bottle)"
   ]
  },
  {
   "cell_type": "code",
   "execution_count": null,
   "metadata": {
    "collapsed": false
   },
   "outputs": [],
   "source": [
    "import bottle\n",
    "\n",
    "@bottle.route(\"/fizzbuzz/<number:int>\")\n",
    "def fizzbuzz_web_route(number):    \n",
    "    res = []\n",
    "    for i in range(number):\n",
    "        if i % 3 == 0 and i % 5 == 0:\n",
    "            res.append(\"fizzbuzz\")\n",
    "        elif i % 3 == 0:\n",
    "            res.append(\"fizz\")\n",
    "        elif i % 5 == 0:\n",
    "            res.append(\"buzz\")\n",
    "        else:\n",
    "            res.append(i)\n",
    "\n",
    "    html = \"\"\"\n",
    "        <!DOCTYPE html>\n",
    "        <html>\n",
    "          <body>\n",
    "            <h1>FizzBuzz Numbers up to {{max}}</h1>\n",
    "            <table>\n",
    "            % for r in res:\n",
    "              <tr><td> {{r}} </td></tr>\n",
    "            %end\n",
    "            </table>\n",
    "          </body>\n",
    "        </html>\n",
    "        \"\"\"\n",
    "\n",
    "    return bottle.template(html, max=number, res=res)\n",
    "\n",
    "def fizzbuzz_web():\n",
    "    bottle.run(host=\"127.0.0.1\", port=8081)\n",
    "\n",
    "fizzbuzz_web()"
   ]
  },
  {
   "cell_type": "markdown",
   "metadata": {},
   "source": [
    "## Kata 12 - in git-repo einchecken\n",
    "\n",
    "\n",
    "``$ cd fizzbuzz``\n",
    "\n",
    "Repo initialisieren\n",
    "\n",
    "``$ git init``\n",
    "\n",
    "Dateien für commit vormerken\n",
    "\n",
    "``$ git add fizzbuzz.py``\n",
    "\n",
    "Dateien in Repo einchecken\n",
    "\n",
    "``$ git commit -a``\n",
    "\n",
    "Logfile anschauen\n",
    "\n",
    "``$ git log``"
   ]
  },
  {
   "cell_type": "markdown",
   "metadata": {},
   "source": [
    "## Kata 13 - als installierbares Programm\n",
    "\n",
    "Das Programm kann mit folgenden Befehlen installiert oder erstellt\n",
    "werden:\n",
    "\n",
    "Release in Unterordner erstellen: \n",
    "\n",
    "``$ python3 setup.py sdist``\n",
    "\n",
    "Installation:\n",
    "\n",
    "``$ python3 setup.py install``\n",
    "\n",
    "Lokale Installation:\n",
    "\n",
    "``$ python3 setup.py install --user``\n",
    "\n",
    "Der Inhalt der Datei ``setup.py`` folgt:"
   ]
  },
  {
   "cell_type": "code",
   "execution_count": null,
   "metadata": {
    "collapsed": false
   },
   "outputs": [],
   "source": [
    "\"\"\"setup.py\"\"\"\n",
    "\n",
    "from setuptools import setup, find_packages\n",
    "\n",
    "setup(\n",
    "    name = \"fizzbuzz_katas\",\n",
    "    version = \"0.1\",\n",
    "    description = \"Exercises with the famous FizzBuzz-Game.\",\n",
    "    packages = find_packages()\n",
    ")"
   ]
  },
  {
   "cell_type": "markdown",
   "metadata": {},
   "source": [
    "## Kata 14 - als getestetes Programm (mit unittest und dcotests)"
   ]
  },
  {
   "cell_type": "code",
   "execution_count": null,
   "metadata": {
    "collapsed": false
   },
   "outputs": [],
   "source": [
    "import unittest\n",
    "\n",
    "class FizzBuzzClass:\n",
    "    def fizzbuzz(self, i):\n",
    "        \"\"\"Die ist ein Kommentar,der einen Test enthält:\n",
    "\n",
    "        Kommentare von Methoden lassen sich auch testen. Der folgende\n",
    "        Quelltext wird hierfür ausgeführt, sobald das doctext-Modul aufgerufen\n",
    "        wird:\n",
    "\n",
    "        $ python3 -m doctest fizzbuzz.py\n",
    "\n",
    "        Hier kommt der Test:\n",
    "\n",
    "        >>> fbc = FizzBuzzClass()\n",
    "        >>> fbc.fizzbuzz(3)\n",
    "        'fizz'\n",
    "        >>> fbc.fizzbuzz(5)\n",
    "        'buzz'\n",
    "        >>> fbc.fizzbuzz(10)\n",
    "        'buzz'\n",
    "        >>> fbc.fizzbuzz(11)\n",
    "        11\n",
    "\n",
    "        \"\"\"\n",
    "        if i % 3 == 0 and i % 5 == 0:\n",
    "            return \"fizzbuzz\"\n",
    "        elif i % 3 == 0:\n",
    "            return \"fizz\"\n",
    "        elif i % 5 == 0:\n",
    "            return \"buzz\"\n",
    "        else:\n",
    "            return i\n",
    "\n",
    "class FizzBuzzClassTest(unittest.TestCase):\n",
    "    \"\"\"Diese Unit-Test-Klasse testet die Klasse FizzBuzzClass. \n",
    "\n",
    "    Hierfür testet die Klasse mögliche Eingaben und Ausgaben.\"\"\"\n",
    "\n",
    "    def test_fizzbuzz(self):\n",
    "        fb = FizzBuzzClass()\n",
    "\n",
    "        self.assertEqual(fb.fizzbuzz(3), \"fizz\")\n",
    "        self.assertEqual(fb.fizzbuzz(15), \"fizzbuzz\")\n",
    "        self.assertEqual(fb.fizzbuzz(9), \"fizz\")\n",
    "        self.assertEqual(fb.fizzbuzz(10), \"buzz\")\n",
    "\n",
    "\n",
    "def fizzbuzz_getestet():\n",
    "    # Alle Tests ausführen.\n",
    "    unittest.main()\n",
    "\n",
    "fizzbuzz_getestet()\n"
   ]
  },
  {
   "cell_type": "markdown",
   "metadata": {},
   "source": [
    "## Kata 15 - mit einem EA-Modul ansteuern\n",
    "\n",
    "https://github.com/pintman/ea_rpi_modul\n"
   ]
  },
  {
   "cell_type": "code",
   "execution_count": null,
   "metadata": {
    "collapsed": false
   },
   "outputs": [],
   "source": [
    "try:\n",
    "    import eamodul.hw\n",
    "except:\n",
    "    pass\n",
    "\n",
    "class FizzBuzzEAModul:\n",
    "    def __init__(self):\n",
    "        self.i = 0\n",
    "\n",
    "        eam = eamodul.hw.EAModul()\n",
    "        # switching on green LED only\n",
    "        eam.schalte_leds(False, False, True)\n",
    "        # register for events when button0 pressed\n",
    "        eam.taster_event_registrieren(0, self.taster0_gedrueckt)\n",
    "\n",
    "        # wait for taster event\n",
    "        while True:\n",
    "            pass\n",
    "\n",
    "    def taster0_gedrueckt(self, pin):\n",
    "        if self.i % 3 == 0 and self.i % 5 == 0:\n",
    "            print(\"fizzbuzz\")\n",
    "        elif self.i % 3 == 0:\n",
    "            print(\"fizz\")\n",
    "        elif self.i % 5 == 0:\n",
    "            print(\"buzz\")\n",
    "        else:\n",
    "            print(self.i)\n",
    "\n",
    "        self.i += 1\n",
    "\n",
    "def fizzbuzz_eamodul():\n",
    "    FizzBuzzEAModul()\n",
    "\n",
    "\n",
    "fizzbuzz_eamodul()"
   ]
  },
  {
   "cell_type": "markdown",
   "metadata": {},
   "source": [
    "## Kata 16 - mit Anbindung an eine Datenbank"
   ]
  },
  {
   "cell_type": "code",
   "execution_count": null,
   "metadata": {
    "collapsed": false
   },
   "outputs": [],
   "source": [
    "import sqlite3\n",
    "\n",
    "def fizzbuzz_insert_into_db():\n",
    "    conn = sqlite3.connect(\"fizzbuzz.db\")\n",
    "    c = conn.cursor()\n",
    "    c.execute(\"CREATE TABLE IF NOT EXISTS fizzbuzz(nr int, ergebnis text)\")\n",
    "\n",
    "    for i in range(20):\n",
    "        erg = \"\"\n",
    "        if i % 3 == 0 and i % 5 == 0:\n",
    "            erg = \"fizzbuzz\"\n",
    "        elif i % 3 == 0:\n",
    "            erg = \"fizz\"\n",
    "        elif i % 5 == 0:\n",
    "            erg = \"buzz\"\n",
    "        else:\n",
    "            erg = i\n",
    "\n",
    "        c.execute(\"INSERT INTO fizzbuzz VALUES(?,?)\", (i,erg))\n",
    "\n",
    "    conn.commit()\n",
    "    conn.close()\n",
    "\n",
    "def fizzbuzz_select_from_db():\n",
    "    conn = sqlite3.connect(\"fizzbuzz.db\")\n",
    "    c = conn.cursor()\n",
    "    rows = c.execute(\"SELECT nr, ergebnis FROM fizzbuzz\")\n",
    "\n",
    "    print(\"Nr.\\tErgebnis\")\n",
    "    for i,erg in rows:\n",
    "        print(i, \"\\t\", erg)\n",
    "\n",
    "    conn.close()\n",
    "\n",
    "def fizzbuzz_db():\n",
    "    fizzbuzz_insert_into_db()\n",
    "    fizzbuzz_select_from_db()\n",
    "    \n",
    "\n",
    "fizzbuzz_db()"
   ]
  },
  {
   "cell_type": "markdown",
   "metadata": {},
   "source": []
  }
 ],
 "metadata": {
  "kernelspec": {
   "display_name": "Python 3",
   "language": "python",
   "name": "python3"
  },
  "language_info": {
   "codemirror_mode": {
    "name": "ipython",
    "version": 3
   },
   "file_extension": ".py",
   "mimetype": "text/x-python",
   "name": "python",
   "nbconvert_exporter": "python",
   "pygments_lexer": "ipython3",
   "version": "3.4.5"
  }
 },
 "nbformat": 4,
 "nbformat_minor": 2
}
